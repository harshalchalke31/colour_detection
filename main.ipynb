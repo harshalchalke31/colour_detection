{
 "cells": [
  {
   "cell_type": "code",
   "execution_count": 2,
   "metadata": {},
   "outputs": [],
   "source": [
    "import cv2\n",
    "from utils import get_limits"
   ]
  },
  {
   "cell_type": "markdown",
   "metadata": {},
   "source": [
    "### Basic code to open camera"
   ]
  },
  {
   "cell_type": "code",
   "execution_count": 3,
   "metadata": {},
   "outputs": [],
   "source": [
    "# # create an object to capture video from your camera\n",
    "# cap = cv2.VideoCapture(0)  # I have only one web-cam so '0', it can be different for multiple web-cams\n",
    "\n",
    "# # visualizing the capture\n",
    "# while True:\n",
    "#     # capture frames\n",
    "#     ret, frame = cap.read()\n",
    "#     cv2.imshow('Frame',frame)\n",
    "#     if cv2.waitKey(1) & 0xFF == ord('q'):\n",
    "#         break\n",
    "\n",
    "# cap.release()\n",
    "# cv2.destroyAllWindows()\n"
   ]
  },
  {
   "cell_type": "markdown",
   "metadata": {},
   "source": [
    "### visualizing the mask"
   ]
  },
  {
   "cell_type": "code",
   "execution_count": null,
   "metadata": {},
   "outputs": [],
   "source": [
    "yellow = [0,255,255]  # RGB code for yellow colour\n",
    "# create an object to capture video from your camera\n",
    "cap = cv2.VideoCapture(0)  # I have only one web-cam so '0', it can be different for multiple web-cams\n",
    "\n",
    "# visualizing the capture\n",
    "while True:\n",
    "    # capture frames\n",
    "    ret, frame = cap.read()\n",
    "\n",
    "    # convert the image from RGB to HSV format\n",
    "    hsvImage = cv2.cvtColor(frame,cv2.COLOR_BGR2HSV)\n",
    "\n",
    "    # get range of target hue\n",
    "    lowerLimit,upperLimit = get_limits(color=yellow)\n",
    "\n",
    "    # creating mask\n",
    "    mask = cv2.inRange(hsvImage,lowerLimit,upperLimit)\n",
    "    mask_ = Image.fromarray(mask)\n",
    "\n",
    "    bbox = mask_.getbbox()\n",
    "    if bbox is not None:\n",
    "        x1,y1,x2,y2 = bbox\n",
    "        frame = cv2.rectangle(frame,(x1,y1),(x2,y2))\n",
    "        \n",
    "    cv2.imshow('Frame',frame)\n",
    "    if cv2.waitKey(1) & 0xFF == ord('q'):\n",
    "        break\n",
    "\n",
    "cap.release()\n",
    "cv2.destroyAllWindows()\n"
   ]
  }
 ],
 "metadata": {
  "kernelspec": {
   "display_name": "Python 3",
   "language": "python",
   "name": "python3"
  },
  "language_info": {
   "codemirror_mode": {
    "name": "ipython",
    "version": 3
   },
   "file_extension": ".py",
   "mimetype": "text/x-python",
   "name": "python",
   "nbconvert_exporter": "python",
   "pygments_lexer": "ipython3",
   "version": "3.9.13"
  }
 },
 "nbformat": 4,
 "nbformat_minor": 2
}
